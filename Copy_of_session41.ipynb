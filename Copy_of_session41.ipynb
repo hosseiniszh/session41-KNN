{
  "nbformat": 4,
  "nbformat_minor": 0,
  "metadata": {
    "colab": {
      "provenance": []
    },
    "kernelspec": {
      "name": "python3",
      "display_name": "Python 3"
    },
    "language_info": {
      "name": "python"
    }
  },
  "cells": [
    {
      "cell_type": "markdown",
      "source": [
        "# Apple,banana\n",
        "![my_pic](https://www.golemoon.com/rose/)"
      ],
      "metadata": {
        "id": "I9pbNPsDtu3Q"
      }
    },
    {
      "cell_type": "code",
      "execution_count": 1,
      "metadata": {
        "id": "ef8vsBG6tqhm"
      },
      "outputs": [],
      "source": [
        "import numpy as np\n",
        "import matplotlib.pyplot as plt"
      ]
    },
    {
      "cell_type": "code",
      "source": [
        "n = 100\n",
        "apple_width = np.random.normal(6, 1, n)\n",
        "apple_length = np.random.normal(6, 1, n)\n",
        "banana_width = np.random.normal(4, 1, n)\n",
        "banana_length = np.random.normal(8, 1, n)"
      ],
      "metadata": {
        "id": "NJm1nKDlzKHR"
      },
      "execution_count": 2,
      "outputs": []
    },
    {
      "cell_type": "code",
      "source": [
        "x_width = 3\n",
        "x_length = 9"
      ],
      "metadata": {
        "id": "paoz-zVQ1l8O"
      },
      "execution_count": 3,
      "outputs": []
    },
    {
      "cell_type": "code",
      "source": [
        "y_width = 7\n",
        "y_length = 5"
      ],
      "metadata": {
        "id": "g2unuzYv1rnB"
      },
      "execution_count": 4,
      "outputs": []
    },
    {
      "cell_type": "code",
      "source": [
        "z_width = 5\n",
        "z_length = 7"
      ],
      "metadata": {
        "id": "QI24v7Hn1xoe"
      },
      "execution_count": 5,
      "outputs": []
    },
    {
      "cell_type": "code",
      "source": [
        "plt.scatter(apple_width, apple_length, c = \"red\", marker = '.', label = 'Apple')\n",
        "plt.scatter(banana_width, banana_length, c = \"orange\", marker = '.', label = 'Banana')\n",
        "plt.scatter(x_width, x_length, c = \"navy\")\n",
        "plt.scatter(y_width, y_length, c = \"green\")\n",
        "plt.scatter(z_width, z_length, c = \"black\")\n",
        "plt.xlabel(\"width\")\n",
        "plt.xlabel(\"length\")\n",
        "plt.title(\"Apples and Bananas\")\n",
        "plt.legend()\n",
        "plt.show()\n"
      ],
      "metadata": {
        "colab": {
          "base_uri": "https://localhost:8080/",
          "height": 472
        },
        "id": "pBSnp8ifzpSq",
        "outputId": "cfa7349d-8385-4358-8cb4-3c58d921f179"
      },
      "execution_count": 6,
      "outputs": [
        {
          "output_type": "display_data",
          "data": {
            "text/plain": [
              "<Figure size 640x480 with 1 Axes>"
            ],
            "image/png": "[encoded data removed]"
          },
          "metadata": {}
        }
      ]
    },
    {
      "cell_type": "code",
      "source": [
        "width = np.concatenate((apple_width,banana_width))\n",
        "length = np.concatenate((apple_length,banana_length))\n",
        "X_train = np.array([width, length]).T  #.T jaye too va arz avaz mikonad\n",
        "\n",
        "X_train.shape"
      ],
      "metadata": {
        "colab": {
          "base_uri": "https://localhost:8080/"
        },
        "id": "6zcdrc0v4CwZ",
        "outputId": "a34af3bf-b3a5-4e20-acfd-f21c562b7ede"
      },
      "execution_count": 7,
      "outputs": [
        {
          "output_type": "execute_result",
          "data": {
            "text/plain": [
              "(200, 2)"
            ]
          },
          "metadata": {},
          "execution_count": 7
        }
      ]
    },
    {
      "cell_type": "code",
      "source": [
        "Y_apples = np.zeros(n, dtype = 'int')\n",
        "Y_banana = np.ones(n, dtype = 'int')\n",
        "Y_train = np.concatenate((Y_apples, Y_banana))\n",
        "\n",
        "Y_train"
      ],
      "metadata": {
        "colab": {
          "base_uri": "https://localhost:8080/"
        },
        "id": "kqwJ3Vv45AnE",
        "outputId": "f02ce7ad-cb82-4c89-f383-90075e53212c"
      },
      "execution_count": 8,
      "outputs": [
        {
          "output_type": "execute_result",
          "data": {
            "text/plain": [
              "array([0, 0, 0, 0, 0, 0, 0, 0, 0, 0, 0, 0, 0, 0, 0, 0, 0, 0, 0, 0, 0, 0,\n",
              "       0, 0, 0, 0, 0, 0, 0, 0, 0, 0, 0, 0, 0, 0, 0, 0, 0, 0, 0, 0, 0, 0,\n",
              "       0, 0, 0, 0, 0, 0, 0, 0, 0, 0, 0, 0, 0, 0, 0, 0, 0, 0, 0, 0, 0, 0,\n",
              "       0, 0, 0, 0, 0, 0, 0, 0, 0, 0, 0, 0, 0, 0, 0, 0, 0, 0, 0, 0, 0, 0,\n",
              "       0, 0, 0, 0, 0, 0, 0, 0, 0, 0, 0, 0, 1, 1, 1, 1, 1, 1, 1, 1, 1, 1,\n",
              "       1, 1, 1, 1, 1, 1, 1, 1, 1, 1, 1, 1, 1, 1, 1, 1, 1, 1, 1, 1, 1, 1,\n",
              "       1, 1, 1, 1, 1, 1, 1, 1, 1, 1, 1, 1, 1, 1, 1, 1, 1, 1, 1, 1, 1, 1,\n",
              "       1, 1, 1, 1, 1, 1, 1, 1, 1, 1, 1, 1, 1, 1, 1, 1, 1, 1, 1, 1, 1, 1,\n",
              "       1, 1, 1, 1, 1, 1, 1, 1, 1, 1, 1, 1, 1, 1, 1, 1, 1, 1, 1, 1, 1, 1,\n",
              "       1, 1])"
            ]
          },
          "metadata": {},
          "execution_count": 8
        }
      ]
    },
    {
      "cell_type": "code",
      "source": [
        "def oghlidosi(x1,x2):\n",
        "  return np.sqrt(np.sum((x1-x2)**2))"
      ],
      "metadata": {
        "id": "tfWkili8-eZl"
      },
      "execution_count": 9,
      "outputs": []
    },
    {
      "cell_type": "code",
      "source": [
        "s = np.array([4,5])\n",
        "m = np.array([10,2])\n",
        "\n",
        "oghlidosi(s,m)"
      ],
      "metadata": {
        "colab": {
          "base_uri": "https://localhost:8080/"
        },
        "id": "37fAVBF5-zfL",
        "outputId": "459bf124-fa15-4756-e170-0609213d0a10"
      },
      "execution_count": 10,
      "outputs": [
        {
          "output_type": "execute_result",
          "data": {
            "text/plain": [
              "6.708203932499369"
            ]
          },
          "metadata": {},
          "execution_count": 10
        }
      ]
    },
    {
      "cell_type": "code",
      "source": [
        "new_fruit = np.array([5,7])\n",
        "\n",
        "distances = []\n",
        "\n",
        "for x in X_train:\n",
        "   d = oghlidosi(new_fruit, x)\n",
        "   distances.append(d)\n"
      ],
      "metadata": {
        "id": "ohavZLtj_OFc"
      },
      "execution_count": 11,
      "outputs": []
    },
    {
      "cell_type": "code",
      "source": [
        "k = 5\n"
      ],
      "metadata": {
        "id": "akjIwObyAtRM"
      },
      "execution_count": 12,
      "outputs": []
    },
    {
      "cell_type": "code",
      "source": [
        "nearest_neighbors = np.argsort(distances)[0:k]\n",
        "nearest_neighbors"
      ],
      "metadata": {
        "colab": {
          "base_uri": "https://localhost:8080/"
        },
        "id": "6YbO2FxKBHAh",
        "outputId": "0922070d-99ff-4650-e3dd-1502c262f326"
      },
      "execution_count": 13,
      "outputs": [
        {
          "output_type": "execute_result",
          "data": {
            "text/plain": [
              "array([ 71,  87, 184,  99, 150])"
            ]
          },
          "metadata": {},
          "execution_count": 13
        }
      ]
    },
    {
      "cell_type": "code",
      "source": [
        "Y_train[nearest_neighbors]\n",
        "result = np.bincount(Y_train[nearest_neighbors])"
      ],
      "metadata": {
        "id": "HOtzVCpNCzvJ"
      },
      "execution_count": 14,
      "outputs": []
    },
    {
      "cell_type": "code",
      "source": [
        "if np.argmax(result) == 0:\n",
        "  print('sib')\n",
        "else :\n",
        "  print('moz')"
      ],
      "metadata": {
        "colab": {
          "base_uri": "https://localhost:8080/"
        },
        "id": "Mc_sKsO7FBKA",
        "outputId": "b34bd43c-7329-422b-b38c-ac4a01fe9dee"
      },
      "execution_count": 15,
      "outputs": [
        {
          "output_type": "stream",
          "name": "stdout",
          "text": [
            "sib\n"
          ]
        }
      ]
    }
  ]
}